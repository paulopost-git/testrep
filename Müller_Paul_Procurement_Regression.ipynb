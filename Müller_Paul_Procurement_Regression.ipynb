{
 "cells": [
  {
   "cell_type": "code",
   "execution_count": 1,
   "metadata": {},
   "outputs": [],
   "source": [
    "from sklearn import linear_model\n",
    "from sklearn.model_selection import train_test_split\n",
    "\n",
    "import numpy as np\n",
    "import pandas as pd\n",
    "import matplotlib.pyplot as plt\n",
    "import scipy.stats as stats"
   ]
  },
  {
   "cell_type": "markdown",
   "metadata": {},
   "source": [
    "# Regression\n",
    "\n",
    "dependent variable: \n",
    "- Contract volume 2020 per company (\"Vertragsvolumen\") \n",
    "New contracts that are starting in the year 2020 \n",
    " / Short term and long term contracts\n",
    "\n",
    "independent variables:\n",
    "- Number of contracts 2020 per company (\"Anzahl\")\n",
    "- Payments 2019 per company (\"Zahlungen\")\n",
    "- Company size - micro, small, medium-sized, large (\"kategorie\") \n"
   ]
  },
  {
   "cell_type": "code",
   "execution_count": 2,
   "metadata": {},
   "outputs": [
    {
     "data": {
      "text/html": [
       "<div>\n",
       "<style scoped>\n",
       "    .dataframe tbody tr th:only-of-type {\n",
       "        vertical-align: middle;\n",
       "    }\n",
       "\n",
       "    .dataframe tbody tr th {\n",
       "        vertical-align: top;\n",
       "    }\n",
       "\n",
       "    .dataframe thead th {\n",
       "        text-align: right;\n",
       "    }\n",
       "</style>\n",
       "<table border=\"1\" class=\"dataframe\">\n",
       "  <thead>\n",
       "    <tr style=\"text-align: right;\">\n",
       "      <th></th>\n",
       "      <th>UID</th>\n",
       "      <th>Vertragsvolumen</th>\n",
       "      <th>Anzahl</th>\n",
       "    </tr>\n",
       "  </thead>\n",
       "  <tbody>\n",
       "    <tr>\n",
       "      <th>0</th>\n",
       "      <td>02372680187</td>\n",
       "      <td>882900.00</td>\n",
       "      <td>2</td>\n",
       "    </tr>\n",
       "    <tr>\n",
       "      <th>1</th>\n",
       "      <td>411998600</td>\n",
       "      <td>7237.44</td>\n",
       "      <td>1</td>\n",
       "    </tr>\n",
       "    <tr>\n",
       "      <th>2</th>\n",
       "      <td>485283180</td>\n",
       "      <td>2361.55</td>\n",
       "      <td>1</td>\n",
       "    </tr>\n",
       "    <tr>\n",
       "      <th>3</th>\n",
       "      <td>558238416</td>\n",
       "      <td>923120.00</td>\n",
       "      <td>1</td>\n",
       "    </tr>\n",
       "    <tr>\n",
       "      <th>4</th>\n",
       "      <td>80931865200025</td>\n",
       "      <td>21207.90</td>\n",
       "      <td>1</td>\n",
       "    </tr>\n",
       "    <tr>\n",
       "      <th>...</th>\n",
       "      <td>...</td>\n",
       "      <td>...</td>\n",
       "      <td>...</td>\n",
       "    </tr>\n",
       "    <tr>\n",
       "      <th>13803</th>\n",
       "      <td>NL855819716B01</td>\n",
       "      <td>1506.75</td>\n",
       "      <td>1</td>\n",
       "    </tr>\n",
       "    <tr>\n",
       "      <th>13804</th>\n",
       "      <td>REVOGB21</td>\n",
       "      <td>4984.80</td>\n",
       "      <td>1</td>\n",
       "    </tr>\n",
       "    <tr>\n",
       "      <th>13805</th>\n",
       "      <td>SCBLZWHXXX</td>\n",
       "      <td>6650.00</td>\n",
       "      <td>1</td>\n",
       "    </tr>\n",
       "    <tr>\n",
       "      <th>13806</th>\n",
       "      <td>SE556249683501</td>\n",
       "      <td>60370.92</td>\n",
       "      <td>1</td>\n",
       "    </tr>\n",
       "    <tr>\n",
       "      <th>13807</th>\n",
       "      <td>SE556422827701</td>\n",
       "      <td>7600.00</td>\n",
       "      <td>1</td>\n",
       "    </tr>\n",
       "  </tbody>\n",
       "</table>\n",
       "<p>13808 rows × 3 columns</p>\n",
       "</div>"
      ],
      "text/plain": [
       "                  UID  Vertragsvolumen  Anzahl\n",
       "0         02372680187        882900.00       2\n",
       "1           411998600          7237.44       1\n",
       "2           485283180          2361.55       1\n",
       "3           558238416        923120.00       1\n",
       "4      80931865200025         21207.90       1\n",
       "...               ...              ...     ...\n",
       "13803  NL855819716B01          1506.75       1\n",
       "13804        REVOGB21          4984.80       1\n",
       "13805      SCBLZWHXXX          6650.00       1\n",
       "13806  SE556249683501         60370.92       1\n",
       "13807  SE556422827701          7600.00       1\n",
       "\n",
       "[13808 rows x 3 columns]"
      ]
     },
     "execution_count": 2,
     "metadata": {},
     "output_type": "execute_result"
    }
   ],
   "source": [
    "a = pd.read_excel('Procurement/Anzahl_Vertragsvolumen.xlsx', sheet_name='Bericht', header=4) \n",
    "#skiprows=[2]\n",
    "#na_values=['unknown'])\n",
    "#index_col=[0]\n",
    "#a.tail()\n",
    "a"
   ]
  },
  {
   "cell_type": "code",
   "execution_count": 60,
   "metadata": {},
   "outputs": [
    {
     "data": {
      "text/plain": [
       "<matplotlib.legend.Legend at 0x1f163d68b50>"
      ]
     },
     "execution_count": 60,
     "metadata": {},
     "output_type": "execute_result"
    },
    {
     "data": {
      "image/png": "[encoded data removed]",
      "text/plain": [
       "<Figure size 432x288 with 1 Axes>"
      ]
     },
     "metadata": {
      "needs_background": "light"
     },
     "output_type": "display_data"
    }
   ],
   "source": [
    "#df_cp4['4th quarter'].plot(bins=30,range=(0,1000), kind='hist',fill=False,histtype='step', title='Contract period: 4th quarter')\n",
    "#plt.xlabel('Days')\n",
    "#plt.show\n",
    "\n",
    "a['Vertragsvolumen'].plot(bins=30,range=(0,100000), kind=\"hist\",fill=False,histtype='step',title='Contract volumen 2020', label=\"CHF\")\n",
    "plt.legend()"
   ]
  },
  {
   "cell_type": "code",
   "execution_count": 9,
   "metadata": {},
   "outputs": [
    {
     "data": {
      "text/html": [
       "<div>\n",
       "<style scoped>\n",
       "    .dataframe tbody tr th:only-of-type {\n",
       "        vertical-align: middle;\n",
       "    }\n",
       "\n",
       "    .dataframe tbody tr th {\n",
       "        vertical-align: top;\n",
       "    }\n",
       "\n",
       "    .dataframe thead th {\n",
       "        text-align: right;\n",
       "    }\n",
       "</style>\n",
       "<table border=\"1\" class=\"dataframe\">\n",
       "  <thead>\n",
       "    <tr style=\"text-align: right;\">\n",
       "      <th></th>\n",
       "      <th>Vertragsvolumen</th>\n",
       "      <th>Anzahl</th>\n",
       "    </tr>\n",
       "  </thead>\n",
       "  <tbody>\n",
       "    <tr>\n",
       "      <th>count</th>\n",
       "      <td>1.380300e+04</td>\n",
       "      <td>13808.000000</td>\n",
       "    </tr>\n",
       "    <tr>\n",
       "      <th>mean</th>\n",
       "      <td>3.506166e+05</td>\n",
       "      <td>9.816194</td>\n",
       "    </tr>\n",
       "    <tr>\n",
       "      <th>std</th>\n",
       "      <td>5.704419e+06</td>\n",
       "      <td>71.547775</td>\n",
       "    </tr>\n",
       "    <tr>\n",
       "      <th>min</th>\n",
       "      <td>1.000000e-02</td>\n",
       "      <td>1.000000</td>\n",
       "    </tr>\n",
       "    <tr>\n",
       "      <th>25%</th>\n",
       "      <td>2.568645e+03</td>\n",
       "      <td>1.000000</td>\n",
       "    </tr>\n",
       "    <tr>\n",
       "      <th>50%</th>\n",
       "      <td>1.252954e+04</td>\n",
       "      <td>2.000000</td>\n",
       "    </tr>\n",
       "    <tr>\n",
       "      <th>75%</th>\n",
       "      <td>5.738555e+04</td>\n",
       "      <td>5.000000</td>\n",
       "    </tr>\n",
       "    <tr>\n",
       "      <th>max</th>\n",
       "      <td>4.149961e+08</td>\n",
       "      <td>3520.000000</td>\n",
       "    </tr>\n",
       "  </tbody>\n",
       "</table>\n",
       "</div>"
      ],
      "text/plain": [
       "       Vertragsvolumen        Anzahl\n",
       "count     1.380300e+04  13808.000000\n",
       "mean      3.506166e+05      9.816194\n",
       "std       5.704419e+06     71.547775\n",
       "min       1.000000e-02      1.000000\n",
       "25%       2.568645e+03      1.000000\n",
       "50%       1.252954e+04      2.000000\n",
       "75%       5.738555e+04      5.000000\n",
       "max       4.149961e+08   3520.000000"
      ]
     },
     "execution_count": 9,
     "metadata": {},
     "output_type": "execute_result"
    }
   ],
   "source": [
    "a.describe()"
   ]
  },
  {
   "cell_type": "code",
   "execution_count": 3,
   "metadata": {},
   "outputs": [
    {
     "data": {
      "text/html": [
       "<div>\n",
       "<style scoped>\n",
       "    .dataframe tbody tr th:only-of-type {\n",
       "        vertical-align: middle;\n",
       "    }\n",
       "\n",
       "    .dataframe tbody tr th {\n",
       "        vertical-align: top;\n",
       "    }\n",
       "\n",
       "    .dataframe thead th {\n",
       "        text-align: right;\n",
       "    }\n",
       "</style>\n",
       "<table border=\"1\" class=\"dataframe\">\n",
       "  <thead>\n",
       "    <tr style=\"text-align: right;\">\n",
       "      <th></th>\n",
       "      <th>DUNS</th>\n",
       "      <th>Zahlungen</th>\n",
       "    </tr>\n",
       "  </thead>\n",
       "  <tbody>\n",
       "    <tr>\n",
       "      <th>0</th>\n",
       "      <td>1149657</td>\n",
       "      <td>33.25</td>\n",
       "    </tr>\n",
       "    <tr>\n",
       "      <th>1</th>\n",
       "      <td>1649789</td>\n",
       "      <td>4037.17</td>\n",
       "    </tr>\n",
       "    <tr>\n",
       "      <th>2</th>\n",
       "      <td>2565428</td>\n",
       "      <td>9487.30</td>\n",
       "    </tr>\n",
       "    <tr>\n",
       "      <th>3</th>\n",
       "      <td>3394041</td>\n",
       "      <td>4940.00</td>\n",
       "    </tr>\n",
       "    <tr>\n",
       "      <th>4</th>\n",
       "      <td>5109285</td>\n",
       "      <td>9268.20</td>\n",
       "    </tr>\n",
       "  </tbody>\n",
       "</table>\n",
       "</div>"
      ],
      "text/plain": [
       "      DUNS  Zahlungen\n",
       "0  1149657      33.25\n",
       "1  1649789    4037.17\n",
       "2  2565428    9487.30\n",
       "3  3394041    4940.00\n",
       "4  5109285    9268.20"
      ]
     },
     "execution_count": 3,
     "metadata": {},
     "output_type": "execute_result"
    }
   ],
   "source": [
    "b = pd.read_excel('Procurement/SBeZ_2019.xlsx', sheet_name='Bericht', header=13, skiprows=[14]) \n",
    "#b = b.astype(np.float32)\n",
    "b.head()\n",
    "#print(b.dtypes)"
   ]
  },
  {
   "cell_type": "code",
   "execution_count": 4,
   "metadata": {},
   "outputs": [
    {
     "data": {
      "text/html": [
       "<div>\n",
       "<style scoped>\n",
       "    .dataframe tbody tr th:only-of-type {\n",
       "        vertical-align: middle;\n",
       "    }\n",
       "\n",
       "    .dataframe tbody tr th {\n",
       "        vertical-align: top;\n",
       "    }\n",
       "\n",
       "    .dataframe thead th {\n",
       "        text-align: right;\n",
       "    }\n",
       "</style>\n",
       "<table border=\"1\" class=\"dataframe\">\n",
       "  <thead>\n",
       "    <tr style=\"text-align: right;\">\n",
       "      <th></th>\n",
       "      <th>UID</th>\n",
       "      <th>DUNS</th>\n",
       "    </tr>\n",
       "  </thead>\n",
       "  <tbody>\n",
       "    <tr>\n",
       "      <th>0</th>\n",
       "      <td>02372680187</td>\n",
       "      <td>431123206.0</td>\n",
       "    </tr>\n",
       "    <tr>\n",
       "      <th>1</th>\n",
       "      <td>411998600</td>\n",
       "      <td>50372072.0</td>\n",
       "    </tr>\n",
       "    <tr>\n",
       "      <th>2</th>\n",
       "      <td>485283180</td>\n",
       "      <td>NaN</td>\n",
       "    </tr>\n",
       "    <tr>\n",
       "      <th>3</th>\n",
       "      <td>558238416</td>\n",
       "      <td>533671124.0</td>\n",
       "    </tr>\n",
       "    <tr>\n",
       "      <th>4</th>\n",
       "      <td>80931865200025</td>\n",
       "      <td>NaN</td>\n",
       "    </tr>\n",
       "  </tbody>\n",
       "</table>\n",
       "</div>"
      ],
      "text/plain": [
       "              UID         DUNS\n",
       "0     02372680187  431123206.0\n",
       "1       411998600   50372072.0\n",
       "2       485283180          NaN\n",
       "3       558238416  533671124.0\n",
       "4  80931865200025          NaN"
      ]
     },
     "execution_count": 4,
     "metadata": {},
     "output_type": "execute_result"
    }
   ],
   "source": [
    "c = pd.read_excel('Procurement/DUNS_UID.xlsx', sheet_name='Bericht', header=4) \n",
    "c1 = c.loc[:,['UID','DUNS']]\n",
    "c1 = c1.replace(to_replace=['#'], value=np.nan)\n",
    "#print(c1.dtypes)\n",
    "#c1.DUNS.dtype\n",
    "#c1 = pd.to_numeric(c1, downcast='integer')\n",
    "c1['DUNS'] = c1['DUNS'].apply(pd.to_numeric, downcast='integer', errors='coerce')\n",
    "#print(c1.dtypes)\n",
    "c1.head()"
   ]
  },
  {
   "cell_type": "code",
   "execution_count": 170,
   "metadata": {},
   "outputs": [
    {
     "name": "stdout",
     "output_type": "stream",
     "text": [
      "UID      object\n",
      "DUNS    float64\n",
      "dtype: object\n"
     ]
    }
   ],
   "source": [
    "print(c1.dtypes)"
   ]
  },
  {
   "cell_type": "code",
   "execution_count": 5,
   "metadata": {},
   "outputs": [],
   "source": [
    "c2 = c1.merge(b[['DUNS', 'Zahlungen']], on = 'DUNS', how='left')"
   ]
  },
  {
   "cell_type": "code",
   "execution_count": 6,
   "metadata": {},
   "outputs": [
    {
     "data": {
      "text/html": [
       "<div>\n",
       "<style scoped>\n",
       "    .dataframe tbody tr th:only-of-type {\n",
       "        vertical-align: middle;\n",
       "    }\n",
       "\n",
       "    .dataframe tbody tr th {\n",
       "        vertical-align: top;\n",
       "    }\n",
       "\n",
       "    .dataframe thead th {\n",
       "        text-align: right;\n",
       "    }\n",
       "</style>\n",
       "<table border=\"1\" class=\"dataframe\">\n",
       "  <thead>\n",
       "    <tr style=\"text-align: right;\">\n",
       "      <th></th>\n",
       "      <th>UID</th>\n",
       "      <th>DUNS</th>\n",
       "      <th>Zahlungen</th>\n",
       "      <th>Vertragsvolumen</th>\n",
       "      <th>Anzahl</th>\n",
       "    </tr>\n",
       "  </thead>\n",
       "  <tbody>\n",
       "    <tr>\n",
       "      <th>0</th>\n",
       "      <td>02372680187</td>\n",
       "      <td>431123206.0</td>\n",
       "      <td>1226550.00</td>\n",
       "      <td>882900.00</td>\n",
       "      <td>2</td>\n",
       "    </tr>\n",
       "    <tr>\n",
       "      <th>1</th>\n",
       "      <td>411998600</td>\n",
       "      <td>50372072.0</td>\n",
       "      <td>6384.00</td>\n",
       "      <td>7237.44</td>\n",
       "      <td>1</td>\n",
       "    </tr>\n",
       "    <tr>\n",
       "      <th>2</th>\n",
       "      <td>485283180</td>\n",
       "      <td>NaN</td>\n",
       "      <td>NaN</td>\n",
       "      <td>2361.55</td>\n",
       "      <td>1</td>\n",
       "    </tr>\n",
       "    <tr>\n",
       "      <th>3</th>\n",
       "      <td>558238416</td>\n",
       "      <td>533671124.0</td>\n",
       "      <td>3840964.00</td>\n",
       "      <td>923120.00</td>\n",
       "      <td>1</td>\n",
       "    </tr>\n",
       "    <tr>\n",
       "      <th>4</th>\n",
       "      <td>80931865200025</td>\n",
       "      <td>NaN</td>\n",
       "      <td>NaN</td>\n",
       "      <td>21207.90</td>\n",
       "      <td>1</td>\n",
       "    </tr>\n",
       "    <tr>\n",
       "      <th>...</th>\n",
       "      <td>...</td>\n",
       "      <td>...</td>\n",
       "      <td>...</td>\n",
       "      <td>...</td>\n",
       "      <td>...</td>\n",
       "    </tr>\n",
       "    <tr>\n",
       "      <th>13803</th>\n",
       "      <td>NL855819716B01</td>\n",
       "      <td>NaN</td>\n",
       "      <td>NaN</td>\n",
       "      <td>1506.75</td>\n",
       "      <td>1</td>\n",
       "    </tr>\n",
       "    <tr>\n",
       "      <th>13804</th>\n",
       "      <td>REVOGB21</td>\n",
       "      <td>NaN</td>\n",
       "      <td>NaN</td>\n",
       "      <td>4984.80</td>\n",
       "      <td>1</td>\n",
       "    </tr>\n",
       "    <tr>\n",
       "      <th>13805</th>\n",
       "      <td>SCBLZWHXXX</td>\n",
       "      <td>NaN</td>\n",
       "      <td>NaN</td>\n",
       "      <td>6650.00</td>\n",
       "      <td>1</td>\n",
       "    </tr>\n",
       "    <tr>\n",
       "      <th>13806</th>\n",
       "      <td>SE556249683501</td>\n",
       "      <td>353071623.0</td>\n",
       "      <td>272828.15</td>\n",
       "      <td>60370.92</td>\n",
       "      <td>1</td>\n",
       "    </tr>\n",
       "    <tr>\n",
       "      <th>13807</th>\n",
       "      <td>SE556422827701</td>\n",
       "      <td>356890525.0</td>\n",
       "      <td>7338.75</td>\n",
       "      <td>7600.00</td>\n",
       "      <td>1</td>\n",
       "    </tr>\n",
       "  </tbody>\n",
       "</table>\n",
       "<p>13808 rows × 5 columns</p>\n",
       "</div>"
      ],
      "text/plain": [
       "                  UID         DUNS   Zahlungen  Vertragsvolumen  Anzahl\n",
       "0         02372680187  431123206.0  1226550.00        882900.00       2\n",
       "1           411998600   50372072.0     6384.00          7237.44       1\n",
       "2           485283180          NaN         NaN          2361.55       1\n",
       "3           558238416  533671124.0  3840964.00        923120.00       1\n",
       "4      80931865200025          NaN         NaN         21207.90       1\n",
       "...               ...          ...         ...              ...     ...\n",
       "13803  NL855819716B01          NaN         NaN          1506.75       1\n",
       "13804        REVOGB21          NaN         NaN          4984.80       1\n",
       "13805      SCBLZWHXXX          NaN         NaN          6650.00       1\n",
       "13806  SE556249683501  353071623.0   272828.15         60370.92       1\n",
       "13807  SE556422827701  356890525.0     7338.75          7600.00       1\n",
       "\n",
       "[13808 rows x 5 columns]"
      ]
     },
     "execution_count": 6,
     "metadata": {},
     "output_type": "execute_result"
    }
   ],
   "source": [
    "c3 = c2.merge(a[['UID', 'Vertragsvolumen', 'Anzahl']], on = 'UID', how='right')\n",
    "c3"
   ]
  },
  {
   "cell_type": "code",
   "execution_count": 7,
   "metadata": {},
   "outputs": [
    {
     "data": {
      "text/html": [
       "<div>\n",
       "<style scoped>\n",
       "    .dataframe tbody tr th:only-of-type {\n",
       "        vertical-align: middle;\n",
       "    }\n",
       "\n",
       "    .dataframe tbody tr th {\n",
       "        vertical-align: top;\n",
       "    }\n",
       "\n",
       "    .dataframe thead th {\n",
       "        text-align: right;\n",
       "    }\n",
       "</style>\n",
       "<table border=\"1\" class=\"dataframe\">\n",
       "  <thead>\n",
       "    <tr style=\"text-align: right;\">\n",
       "      <th></th>\n",
       "      <th>UID</th>\n",
       "      <th>hauptuid</th>\n",
       "      <th>kategorie</th>\n",
       "    </tr>\n",
       "  </thead>\n",
       "  <tbody>\n",
       "    <tr>\n",
       "      <th>0</th>\n",
       "      <td>CHE100110072</td>\n",
       "      <td>NaN</td>\n",
       "      <td>gelöscht</td>\n",
       "    </tr>\n",
       "    <tr>\n",
       "      <th>1</th>\n",
       "      <td>CHE100480735</td>\n",
       "      <td>NaN</td>\n",
       "      <td>gelöscht</td>\n",
       "    </tr>\n",
       "    <tr>\n",
       "      <th>2</th>\n",
       "      <td>CHE100814144</td>\n",
       "      <td>NaN</td>\n",
       "      <td>gelöscht</td>\n",
       "    </tr>\n",
       "    <tr>\n",
       "      <th>3</th>\n",
       "      <td>CHE100916767</td>\n",
       "      <td>NaN</td>\n",
       "      <td>gelöscht</td>\n",
       "    </tr>\n",
       "    <tr>\n",
       "      <th>4</th>\n",
       "      <td>CHE101067645</td>\n",
       "      <td>NaN</td>\n",
       "      <td>gelöscht</td>\n",
       "    </tr>\n",
       "    <tr>\n",
       "      <th>...</th>\n",
       "      <td>...</td>\n",
       "      <td>...</td>\n",
       "      <td>...</td>\n",
       "    </tr>\n",
       "    <tr>\n",
       "      <th>21679</th>\n",
       "      <td>CHE496890366</td>\n",
       "      <td>CHE100180948</td>\n",
       "      <td>Grossunternehmen</td>\n",
       "    </tr>\n",
       "    <tr>\n",
       "      <th>21680</th>\n",
       "      <td>CHE496922026</td>\n",
       "      <td>CHE105835113</td>\n",
       "      <td>Grossunternehmen</td>\n",
       "    </tr>\n",
       "    <tr>\n",
       "      <th>21681</th>\n",
       "      <td>CHE499175923</td>\n",
       "      <td>NaN</td>\n",
       "      <td>Grossunternehmen</td>\n",
       "    </tr>\n",
       "    <tr>\n",
       "      <th>21682</th>\n",
       "      <td>CHE499644421</td>\n",
       "      <td>NaN</td>\n",
       "      <td>Grossunternehmen</td>\n",
       "    </tr>\n",
       "    <tr>\n",
       "      <th>21683</th>\n",
       "      <td>CHE499782075</td>\n",
       "      <td>CHE105951162</td>\n",
       "      <td>Grossunternehmen</td>\n",
       "    </tr>\n",
       "  </tbody>\n",
       "</table>\n",
       "<p>21684 rows × 3 columns</p>\n",
       "</div>"
      ],
      "text/plain": [
       "                UID      hauptuid         kategorie\n",
       "0      CHE100110072           NaN          gelöscht\n",
       "1      CHE100480735           NaN          gelöscht\n",
       "2      CHE100814144           NaN          gelöscht\n",
       "3      CHE100916767           NaN          gelöscht\n",
       "4      CHE101067645           NaN          gelöscht\n",
       "...             ...           ...               ...\n",
       "21679  CHE496890366  CHE100180948  Grossunternehmen\n",
       "21680  CHE496922026  CHE105835113  Grossunternehmen\n",
       "21681  CHE499175923           NaN  Grossunternehmen\n",
       "21682  CHE499644421           NaN  Grossunternehmen\n",
       "21683  CHE499782075  CHE105951162  Grossunternehmen\n",
       "\n",
       "[21684 rows x 3 columns]"
      ]
     },
     "execution_count": 7,
     "metadata": {},
     "output_type": "execute_result"
    }
   ],
   "source": [
    "d = pd.read_excel('Procurement/UID_Lieferanten_BVerw OUT.xlsx') \n",
    "d"
   ]
  },
  {
   "cell_type": "code",
   "execution_count": 8,
   "metadata": {},
   "outputs": [
    {
     "data": {
      "text/html": [
       "<div>\n",
       "<style scoped>\n",
       "    .dataframe tbody tr th:only-of-type {\n",
       "        vertical-align: middle;\n",
       "    }\n",
       "\n",
       "    .dataframe tbody tr th {\n",
       "        vertical-align: top;\n",
       "    }\n",
       "\n",
       "    .dataframe thead th {\n",
       "        text-align: right;\n",
       "    }\n",
       "</style>\n",
       "<table border=\"1\" class=\"dataframe\">\n",
       "  <thead>\n",
       "    <tr style=\"text-align: right;\">\n",
       "      <th></th>\n",
       "      <th>UID</th>\n",
       "      <th>DUNS</th>\n",
       "      <th>Zahlungen</th>\n",
       "      <th>Vertragsvolumen</th>\n",
       "      <th>Anzahl</th>\n",
       "      <th>kategorie</th>\n",
       "    </tr>\n",
       "  </thead>\n",
       "  <tbody>\n",
       "    <tr>\n",
       "      <th>0</th>\n",
       "      <td>CHE100110072</td>\n",
       "      <td>488140153.0</td>\n",
       "      <td>NaN</td>\n",
       "      <td>91018.70000</td>\n",
       "      <td>2.0</td>\n",
       "      <td>gelöscht</td>\n",
       "    </tr>\n",
       "    <tr>\n",
       "      <th>1</th>\n",
       "      <td>CHE100480735</td>\n",
       "      <td>480954833.0</td>\n",
       "      <td>4455.00</td>\n",
       "      <td>10018.51248</td>\n",
       "      <td>8.0</td>\n",
       "      <td>gelöscht</td>\n",
       "    </tr>\n",
       "    <tr>\n",
       "      <th>2</th>\n",
       "      <td>CHE100814144</td>\n",
       "      <td>NaN</td>\n",
       "      <td>NaN</td>\n",
       "      <td>NaN</td>\n",
       "      <td>NaN</td>\n",
       "      <td>gelöscht</td>\n",
       "    </tr>\n",
       "    <tr>\n",
       "      <th>3</th>\n",
       "      <td>CHE100916767</td>\n",
       "      <td>481331320.0</td>\n",
       "      <td>62216.50</td>\n",
       "      <td>189404.91411</td>\n",
       "      <td>5.0</td>\n",
       "      <td>gelöscht</td>\n",
       "    </tr>\n",
       "    <tr>\n",
       "      <th>4</th>\n",
       "      <td>CHE101067645</td>\n",
       "      <td>480409679.0</td>\n",
       "      <td>246.90</td>\n",
       "      <td>223.80060</td>\n",
       "      <td>1.0</td>\n",
       "      <td>gelöscht</td>\n",
       "    </tr>\n",
       "    <tr>\n",
       "      <th>...</th>\n",
       "      <td>...</td>\n",
       "      <td>...</td>\n",
       "      <td>...</td>\n",
       "      <td>...</td>\n",
       "      <td>...</td>\n",
       "      <td>...</td>\n",
       "    </tr>\n",
       "    <tr>\n",
       "      <th>21679</th>\n",
       "      <td>CHE496890366</td>\n",
       "      <td>483484312.0</td>\n",
       "      <td>NaN</td>\n",
       "      <td>26925.00000</td>\n",
       "      <td>1.0</td>\n",
       "      <td>Grossunternehmen</td>\n",
       "    </tr>\n",
       "    <tr>\n",
       "      <th>21680</th>\n",
       "      <td>CHE496922026</td>\n",
       "      <td>480029566.0</td>\n",
       "      <td>39599.00</td>\n",
       "      <td>6034.17252</td>\n",
       "      <td>9.0</td>\n",
       "      <td>Grossunternehmen</td>\n",
       "    </tr>\n",
       "    <tr>\n",
       "      <th>21681</th>\n",
       "      <td>CHE499175923</td>\n",
       "      <td>480687722.0</td>\n",
       "      <td>120414.70</td>\n",
       "      <td>100416.45000</td>\n",
       "      <td>1.0</td>\n",
       "      <td>Grossunternehmen</td>\n",
       "    </tr>\n",
       "    <tr>\n",
       "      <th>21682</th>\n",
       "      <td>CHE499644421</td>\n",
       "      <td>480205930.0</td>\n",
       "      <td>439214.03</td>\n",
       "      <td>378944.20444</td>\n",
       "      <td>293.0</td>\n",
       "      <td>Grossunternehmen</td>\n",
       "    </tr>\n",
       "    <tr>\n",
       "      <th>21683</th>\n",
       "      <td>CHE499782075</td>\n",
       "      <td>480419025.0</td>\n",
       "      <td>188855.30</td>\n",
       "      <td>788388.75000</td>\n",
       "      <td>5.0</td>\n",
       "      <td>Grossunternehmen</td>\n",
       "    </tr>\n",
       "  </tbody>\n",
       "</table>\n",
       "<p>21684 rows × 6 columns</p>\n",
       "</div>"
      ],
      "text/plain": [
       "                UID         DUNS  Zahlungen  Vertragsvolumen  Anzahl  \\\n",
       "0      CHE100110072  488140153.0        NaN      91018.70000     2.0   \n",
       "1      CHE100480735  480954833.0    4455.00      10018.51248     8.0   \n",
       "2      CHE100814144          NaN        NaN              NaN     NaN   \n",
       "3      CHE100916767  481331320.0   62216.50     189404.91411     5.0   \n",
       "4      CHE101067645  480409679.0     246.90        223.80060     1.0   \n",
       "...             ...          ...        ...              ...     ...   \n",
       "21679  CHE496890366  483484312.0        NaN      26925.00000     1.0   \n",
       "21680  CHE496922026  480029566.0   39599.00       6034.17252     9.0   \n",
       "21681  CHE499175923  480687722.0  120414.70     100416.45000     1.0   \n",
       "21682  CHE499644421  480205930.0  439214.03     378944.20444   293.0   \n",
       "21683  CHE499782075  480419025.0  188855.30     788388.75000     5.0   \n",
       "\n",
       "              kategorie  \n",
       "0              gelöscht  \n",
       "1              gelöscht  \n",
       "2              gelöscht  \n",
       "3              gelöscht  \n",
       "4              gelöscht  \n",
       "...                 ...  \n",
       "21679  Grossunternehmen  \n",
       "21680  Grossunternehmen  \n",
       "21681  Grossunternehmen  \n",
       "21682  Grossunternehmen  \n",
       "21683  Grossunternehmen  \n",
       "\n",
       "[21684 rows x 6 columns]"
      ]
     },
     "execution_count": 8,
     "metadata": {},
     "output_type": "execute_result"
    }
   ],
   "source": [
    "c4 = c3.merge(d[['UID', 'kategorie']], on = 'UID', how='right')\n",
    "c4"
   ]
  },
  {
   "cell_type": "code",
   "execution_count": 9,
   "metadata": {},
   "outputs": [
    {
     "data": {
      "text/html": [
       "<div>\n",
       "<style scoped>\n",
       "    .dataframe tbody tr th:only-of-type {\n",
       "        vertical-align: middle;\n",
       "    }\n",
       "\n",
       "    .dataframe tbody tr th {\n",
       "        vertical-align: top;\n",
       "    }\n",
       "\n",
       "    .dataframe thead th {\n",
       "        text-align: right;\n",
       "    }\n",
       "</style>\n",
       "<table border=\"1\" class=\"dataframe\">\n",
       "  <thead>\n",
       "    <tr style=\"text-align: right;\">\n",
       "      <th></th>\n",
       "      <th>UID</th>\n",
       "      <th>DUNS</th>\n",
       "      <th>Zahlungen</th>\n",
       "      <th>Vertragsvolumen</th>\n",
       "      <th>Anzahl</th>\n",
       "      <th>kategorie</th>\n",
       "    </tr>\n",
       "  </thead>\n",
       "  <tbody>\n",
       "    <tr>\n",
       "      <th>0</th>\n",
       "      <td>CHE100110072</td>\n",
       "      <td>488140153.0</td>\n",
       "      <td>NaN</td>\n",
       "      <td>91018.70000</td>\n",
       "      <td>2.0</td>\n",
       "      <td>NaN</td>\n",
       "    </tr>\n",
       "    <tr>\n",
       "      <th>1</th>\n",
       "      <td>CHE100480735</td>\n",
       "      <td>480954833.0</td>\n",
       "      <td>4455.00</td>\n",
       "      <td>10018.51248</td>\n",
       "      <td>8.0</td>\n",
       "      <td>NaN</td>\n",
       "    </tr>\n",
       "    <tr>\n",
       "      <th>2</th>\n",
       "      <td>CHE100814144</td>\n",
       "      <td>NaN</td>\n",
       "      <td>NaN</td>\n",
       "      <td>NaN</td>\n",
       "      <td>NaN</td>\n",
       "      <td>NaN</td>\n",
       "    </tr>\n",
       "    <tr>\n",
       "      <th>3</th>\n",
       "      <td>CHE100916767</td>\n",
       "      <td>481331320.0</td>\n",
       "      <td>62216.50</td>\n",
       "      <td>189404.91411</td>\n",
       "      <td>5.0</td>\n",
       "      <td>NaN</td>\n",
       "    </tr>\n",
       "    <tr>\n",
       "      <th>4</th>\n",
       "      <td>CHE101067645</td>\n",
       "      <td>480409679.0</td>\n",
       "      <td>246.90</td>\n",
       "      <td>223.80060</td>\n",
       "      <td>1.0</td>\n",
       "      <td>NaN</td>\n",
       "    </tr>\n",
       "    <tr>\n",
       "      <th>...</th>\n",
       "      <td>...</td>\n",
       "      <td>...</td>\n",
       "      <td>...</td>\n",
       "      <td>...</td>\n",
       "      <td>...</td>\n",
       "      <td>...</td>\n",
       "    </tr>\n",
       "    <tr>\n",
       "      <th>21679</th>\n",
       "      <td>CHE496890366</td>\n",
       "      <td>483484312.0</td>\n",
       "      <td>NaN</td>\n",
       "      <td>26925.00000</td>\n",
       "      <td>1.0</td>\n",
       "      <td>3</td>\n",
       "    </tr>\n",
       "    <tr>\n",
       "      <th>21680</th>\n",
       "      <td>CHE496922026</td>\n",
       "      <td>480029566.0</td>\n",
       "      <td>39599.00</td>\n",
       "      <td>6034.17252</td>\n",
       "      <td>9.0</td>\n",
       "      <td>3</td>\n",
       "    </tr>\n",
       "    <tr>\n",
       "      <th>21681</th>\n",
       "      <td>CHE499175923</td>\n",
       "      <td>480687722.0</td>\n",
       "      <td>120414.70</td>\n",
       "      <td>100416.45000</td>\n",
       "      <td>1.0</td>\n",
       "      <td>3</td>\n",
       "    </tr>\n",
       "    <tr>\n",
       "      <th>21682</th>\n",
       "      <td>CHE499644421</td>\n",
       "      <td>480205930.0</td>\n",
       "      <td>439214.03</td>\n",
       "      <td>378944.20444</td>\n",
       "      <td>293.0</td>\n",
       "      <td>3</td>\n",
       "    </tr>\n",
       "    <tr>\n",
       "      <th>21683</th>\n",
       "      <td>CHE499782075</td>\n",
       "      <td>480419025.0</td>\n",
       "      <td>188855.30</td>\n",
       "      <td>788388.75000</td>\n",
       "      <td>5.0</td>\n",
       "      <td>3</td>\n",
       "    </tr>\n",
       "  </tbody>\n",
       "</table>\n",
       "<p>21684 rows × 6 columns</p>\n",
       "</div>"
      ],
      "text/plain": [
       "                UID         DUNS  Zahlungen  Vertragsvolumen  Anzahl kategorie\n",
       "0      CHE100110072  488140153.0        NaN      91018.70000     2.0       NaN\n",
       "1      CHE100480735  480954833.0    4455.00      10018.51248     8.0       NaN\n",
       "2      CHE100814144          NaN        NaN              NaN     NaN       NaN\n",
       "3      CHE100916767  481331320.0   62216.50     189404.91411     5.0       NaN\n",
       "4      CHE101067645  480409679.0     246.90        223.80060     1.0       NaN\n",
       "...             ...          ...        ...              ...     ...       ...\n",
       "21679  CHE496890366  483484312.0        NaN      26925.00000     1.0         3\n",
       "21680  CHE496922026  480029566.0   39599.00       6034.17252     9.0         3\n",
       "21681  CHE499175923  480687722.0  120414.70     100416.45000     1.0         3\n",
       "21682  CHE499644421  480205930.0  439214.03     378944.20444   293.0         3\n",
       "21683  CHE499782075  480419025.0  188855.30     788388.75000     5.0         3\n",
       "\n",
       "[21684 rows x 6 columns]"
      ]
     },
     "execution_count": 9,
     "metadata": {},
     "output_type": "execute_result"
    }
   ],
   "source": [
    "cleanup_nums = {'kategorie': {'gelöscht':np.nan, 'Mikrounternehmen': 0, 'Kleinunternehmen': 1, 'Mittelunternehmen': 2, 'Grossunternehmen':3}}\n",
    "c4.replace(cleanup_nums, inplace=True)  # convert continous categorial variables to numerical\n",
    "c4"
   ]
  },
  {
   "cell_type": "code",
   "execution_count": 10,
   "metadata": {},
   "outputs": [
    {
     "name": "stdout",
     "output_type": "stream",
     "text": [
      "UID                 object\n",
      "DUNS               float64\n",
      "Zahlungen          float64\n",
      "Vertragsvolumen    float64\n",
      "Anzahl             float64\n",
      "kategorie          float64\n",
      "dtype: object\n"
     ]
    }
   ],
   "source": [
    "c4['kategorie'] = c4['kategorie'].apply(pd.to_numeric, downcast='integer', errors='coerce')\n",
    "print(c4.dtypes)"
   ]
  },
  {
   "cell_type": "code",
   "execution_count": 25,
   "metadata": {},
   "outputs": [
    {
     "data": {
      "text/plain": [
       "(21684, 6)"
      ]
     },
     "execution_count": 25,
     "metadata": {},
     "output_type": "execute_result"
    }
   ],
   "source": [
    "c4.shape\n",
    "#c4.to_excel('Procurement/output_with_nan.xlsx')"
   ]
  },
  {
   "cell_type": "code",
   "execution_count": 11,
   "metadata": {},
   "outputs": [
    {
     "data": {
      "text/plain": [
       "(7808, 6)"
      ]
     },
     "execution_count": 11,
     "metadata": {},
     "output_type": "execute_result"
    }
   ],
   "source": [
    "c5 = c4.dropna()\n",
    "c5.shape"
   ]
  },
  {
   "cell_type": "code",
   "execution_count": 59,
   "metadata": {},
   "outputs": [
    {
     "data": {
      "image/png": "[encoded data removed]",
      "text/plain": [
       "<Figure size 432x432 with 16 Axes>"
      ]
     },
     "metadata": {
      "needs_background": "light"
     },
     "output_type": "display_data"
    }
   ],
   "source": [
    "#from pandas.plotting import scatter_matrix\n",
    "#scatter_matrix(c5[['Zahlungen', 'Vertragsvolumen', 'Anzahl', 'kategorie']], alpha=0.2, figsize=(6, 6), diagonal='hist')\n",
    "#plt.show()\n"
   ]
  },
  {
   "cell_type": "code",
   "execution_count": 218,
   "metadata": {},
   "outputs": [
    {
     "data": {
      "image/png": "[encoded data removed]",
      "text/plain": [
       "<Figure size 432x288 with 1 Axes>"
      ]
     },
     "metadata": {
      "needs_background": "light"
     },
     "output_type": "display_data"
    }
   ],
   "source": [
    "#plt.plot(c7['Zahlungen'], c7['Vertragsvolumen'], '.r')\n",
    "#plt.xlabel('Zahlungen')\n",
    "#plt.ylabel('Vertragsvolumen');"
   ]
  },
  {
   "cell_type": "code",
   "execution_count": 74,
   "metadata": {
    "scrolled": true
   },
   "outputs": [
    {
     "data": {
      "text/html": [
       "<div>\n",
       "<style scoped>\n",
       "    .dataframe tbody tr th:only-of-type {\n",
       "        vertical-align: middle;\n",
       "    }\n",
       "\n",
       "    .dataframe tbody tr th {\n",
       "        vertical-align: top;\n",
       "    }\n",
       "\n",
       "    .dataframe thead th {\n",
       "        text-align: right;\n",
       "    }\n",
       "</style>\n",
       "<table border=\"1\" class=\"dataframe\">\n",
       "  <thead>\n",
       "    <tr style=\"text-align: right;\">\n",
       "      <th></th>\n",
       "      <th>DUNS</th>\n",
       "      <th>Zahlungen</th>\n",
       "      <th>Vertragsvolumen</th>\n",
       "      <th>Anzahl</th>\n",
       "      <th>kategorie</th>\n",
       "    </tr>\n",
       "  </thead>\n",
       "  <tbody>\n",
       "    <tr>\n",
       "      <th>count</th>\n",
       "      <td>7.808000e+03</td>\n",
       "      <td>7808.000000</td>\n",
       "      <td>7.808000e+03</td>\n",
       "      <td>7808.000000</td>\n",
       "      <td>7808.000000</td>\n",
       "    </tr>\n",
       "    <tr>\n",
       "      <th>mean</th>\n",
       "      <td>4.865316e+08</td>\n",
       "      <td>557.886355</td>\n",
       "      <td>5.493617e+05</td>\n",
       "      <td>13.933658</td>\n",
       "      <td>0.968494</td>\n",
       "    </tr>\n",
       "    <tr>\n",
       "      <th>std</th>\n",
       "      <td>4.417376e+07</td>\n",
       "      <td>3696.503136</td>\n",
       "      <td>7.534739e+06</td>\n",
       "      <td>77.629654</td>\n",
       "      <td>0.919471</td>\n",
       "    </tr>\n",
       "    <tr>\n",
       "      <th>min</th>\n",
       "      <td>1.084066e+08</td>\n",
       "      <td>-4.237260</td>\n",
       "      <td>1.000000e-02</td>\n",
       "      <td>1.000000</td>\n",
       "      <td>0.000000</td>\n",
       "    </tr>\n",
       "    <tr>\n",
       "      <th>25%</th>\n",
       "      <td>4.807478e+08</td>\n",
       "      <td>5.635817</td>\n",
       "      <td>4.500000e+03</td>\n",
       "      <td>1.000000</td>\n",
       "      <td>0.000000</td>\n",
       "    </tr>\n",
       "    <tr>\n",
       "      <th>50%</th>\n",
       "      <td>4.823649e+08</td>\n",
       "      <td>25.513600</td>\n",
       "      <td>2.136946e+04</td>\n",
       "      <td>3.000000</td>\n",
       "      <td>1.000000</td>\n",
       "    </tr>\n",
       "    <tr>\n",
       "      <th>75%</th>\n",
       "      <td>4.850233e+08</td>\n",
       "      <td>123.630825</td>\n",
       "      <td>9.819640e+04</td>\n",
       "      <td>8.000000</td>\n",
       "      <td>2.000000</td>\n",
       "    </tr>\n",
       "    <tr>\n",
       "      <th>max</th>\n",
       "      <td>1.000000e+09</td>\n",
       "      <td>118850.217280</td>\n",
       "      <td>4.149961e+08</td>\n",
       "      <td>3252.000000</td>\n",
       "      <td>3.000000</td>\n",
       "    </tr>\n",
       "  </tbody>\n",
       "</table>\n",
       "</div>"
      ],
      "text/plain": [
       "               DUNS      Zahlungen  Vertragsvolumen       Anzahl    kategorie\n",
       "count  7.808000e+03    7808.000000     7.808000e+03  7808.000000  7808.000000\n",
       "mean   4.865316e+08     557.886355     5.493617e+05    13.933658     0.968494\n",
       "std    4.417376e+07    3696.503136     7.534739e+06    77.629654     0.919471\n",
       "min    1.084066e+08      -4.237260     1.000000e-02     1.000000     0.000000\n",
       "25%    4.807478e+08       5.635817     4.500000e+03     1.000000     0.000000\n",
       "50%    4.823649e+08      25.513600     2.136946e+04     3.000000     1.000000\n",
       "75%    4.850233e+08     123.630825     9.819640e+04     8.000000     2.000000\n",
       "max    1.000000e+09  118850.217280     4.149961e+08  3252.000000     3.000000"
      ]
     },
     "execution_count": 74,
     "metadata": {},
     "output_type": "execute_result"
    }
   ],
   "source": [
    "c5.describe()"
   ]
  },
  {
   "cell_type": "code",
   "execution_count": 13,
   "metadata": {},
   "outputs": [],
   "source": [
    "x = c5[['Zahlungen', 'Anzahl', 'kategorie']]\n",
    "y = c5['Vertragsvolumen']"
   ]
  },
  {
   "cell_type": "code",
   "execution_count": 118,
   "metadata": {},
   "outputs": [
    {
     "data": {
      "text/plain": [
       "(7808, 3)"
      ]
     },
     "execution_count": 118,
     "metadata": {},
     "output_type": "execute_result"
    }
   ],
   "source": [
    "x.shape"
   ]
  },
  {
   "cell_type": "code",
   "execution_count": 182,
   "metadata": {},
   "outputs": [
    {
     "data": {
      "text/plain": [
       "(7808,)"
      ]
     },
     "execution_count": 182,
     "metadata": {},
     "output_type": "execute_result"
    }
   ],
   "source": [
    "y.shape"
   ]
  },
  {
   "cell_type": "code",
   "execution_count": 14,
   "metadata": {},
   "outputs": [
    {
     "data": {
      "text/plain": [
       "LinearRegression()"
      ]
     },
     "execution_count": 14,
     "metadata": {},
     "output_type": "execute_result"
    }
   ],
   "source": [
    "# Make train/test split\n",
    "x_train, x_test, y_train, y_test = train_test_split(x, y, test_size=0.2)\n",
    "\n",
    "# Fit the model\n",
    "reg = linear_model.LinearRegression()\n",
    "reg.fit(x_train, y_train)"
   ]
  },
  {
   "cell_type": "code",
   "execution_count": 15,
   "metadata": {},
   "outputs": [
    {
     "name": "stdout",
     "output_type": "stream",
     "text": [
      "Train MSE = 6746463.32\n",
      "Test MSE = 6771735.53\n",
      "Train MAE = 984145.80\n",
      "Test MAE = 844029.10\n",
      "Train R2 =  0.23\n",
      "Test R2 =  0.01\n"
     ]
    },
    {
     "data": {
      "text/plain": [
       "[]"
      ]
     },
     "execution_count": 15,
     "metadata": {},
     "output_type": "execute_result"
    },
    {
     "data": {
      "image/png": "[encoded data removed]",
      "text/plain": [
       "<Figure size 720x720 with 1 Axes>"
      ]
     },
     "metadata": {
      "needs_background": "light"
     },
     "output_type": "display_data"
    }
   ],
   "source": [
    "# Evaluate MSE, MAE, and R2 on train and test datasets\n",
    "\n",
    "# Prediction:\n",
    "y_p_train = reg.predict(x_train)\n",
    "y_p_test = reg.predict(x_test)\n",
    "\n",
    "# mse\n",
    "print('Train MSE = %5.2f' % np.std(y_train - y_p_train))\n",
    "print('Test MSE = %5.2f' % np.std(y_test - y_p_test))\n",
    "# mse\n",
    "print('Train MAE = %5.2f' % np.mean(np.abs(y_train - y_p_train)))\n",
    "print('Test MAE = %5.2f' % np.mean(np.abs(y_test - y_p_test)))\n",
    "# R2\n",
    "print('Train R2 = %5.2f' % reg.score(x_train, y_train))\n",
    "print('Test R2 = %5.2f' % reg.score(x_test, y_test))\n",
    "\n",
    "# Plot y vs predicted y for test and train parts\n",
    "plt.figure(figsize=(10,10))\n",
    "plt.plot(y_train, y_p_train, 'b.', label='Train')\n",
    "plt.plot(y_test, y_p_test, 'r.', label='Test')\n",
    "\n",
    "plt.plot([0], [0], 'w.')  # dummy to have origin\n",
    "plt.xlabel('True Vertragsvolumen')\n",
    "plt.ylabel('Predicted Vertragsvolumen')\n",
    "#plt.gca().set_aspect('equal')\n",
    "plt.legend()\n",
    "plt.plot()"
   ]
  },
  {
   "cell_type": "code",
   "execution_count": 129,
   "metadata": {},
   "outputs": [],
   "source": [
    "c5.to_excel('Procurement/c5.xlsx')"
   ]
  },
  {
   "cell_type": "markdown",
   "metadata": {},
   "source": [
    "Filter the data"
   ]
  },
  {
   "cell_type": "code",
   "execution_count": 77,
   "metadata": {},
   "outputs": [],
   "source": [
    "c6 = c5[(c5['Vertragsvolumen'] < 50000) & (c5['Vertragsvolumen'] > 0)]\n",
    "c7 = c6[(c6['Zahlungen'] < 50000) & (c6['Zahlungen'] > 0)]"
   ]
  },
  {
   "cell_type": "code",
   "execution_count": 78,
   "metadata": {},
   "outputs": [],
   "source": [
    "x = c7[['Zahlungen', 'Anzahl', 'kategorie']]\n",
    "y = c7['Vertragsvolumen']"
   ]
  },
  {
   "cell_type": "code",
   "execution_count": 79,
   "metadata": {},
   "outputs": [
    {
     "data": {
      "text/plain": [
       "(4075, 3)"
      ]
     },
     "execution_count": 79,
     "metadata": {},
     "output_type": "execute_result"
    }
   ],
   "source": [
    "x.shape"
   ]
  },
  {
   "cell_type": "code",
   "execution_count": 215,
   "metadata": {},
   "outputs": [
    {
     "data": {
      "text/plain": [
       "(4075,)"
      ]
     },
     "execution_count": 215,
     "metadata": {},
     "output_type": "execute_result"
    }
   ],
   "source": [
    "y.shape"
   ]
  },
  {
   "cell_type": "code",
   "execution_count": 80,
   "metadata": {},
   "outputs": [
    {
     "data": {
      "text/plain": [
       "LinearRegression()"
      ]
     },
     "execution_count": 80,
     "metadata": {},
     "output_type": "execute_result"
    }
   ],
   "source": [
    "# Make train/test split\n",
    "x_train, x_test, y_train, y_test = train_test_split(x, y, test_size=0.2)\n",
    "\n",
    "# Fit the model\n",
    "reg = linear_model.LinearRegression()\n",
    "reg.fit(x_train, y_train)"
   ]
  },
  {
   "cell_type": "code",
   "execution_count": 81,
   "metadata": {},
   "outputs": [
    {
     "name": "stdout",
     "output_type": "stream",
     "text": [
      "Train MSE = 10624.11\n",
      "Test MSE = 10283.10\n",
      "Train MAE = 7898.37\n",
      "Test MAE = 7586.37\n",
      "Train R2 =  0.22\n",
      "Test R2 =  0.19\n"
     ]
    },
    {
     "data": {
      "text/plain": [
       "[]"
      ]
     },
     "execution_count": 81,
     "metadata": {},
     "output_type": "execute_result"
    },
    {
     "data": {
      "image/png": "[encoded data removed]",
      "text/plain": [
       "<Figure size 720x720 with 1 Axes>"
      ]
     },
     "metadata": {
      "needs_background": "light"
     },
     "output_type": "display_data"
    }
   ],
   "source": [
    "# Evaluate MSE, MAE, and R2 on train and test datasets\n",
    "\n",
    "# Prediction:\n",
    "y_p_train = reg.predict(x_train)\n",
    "y_p_test = reg.predict(x_test)\n",
    "\n",
    "# mse\n",
    "print('Train MSE = %5.2f' % np.std(y_train - y_p_train))\n",
    "print('Test MSE = %5.2f' % np.std(y_test - y_p_test))\n",
    "# mse\n",
    "print('Train MAE = %5.2f' % np.mean(np.abs(y_train - y_p_train)))\n",
    "print('Test MAE = %5.2f' % np.mean(np.abs(y_test - y_p_test)))\n",
    "# R2\n",
    "print('Train R2 = %5.2f' % reg.score(x_train, y_train))\n",
    "print('Test R2 = %5.2f' % reg.score(x_test, y_test))\n",
    "\n",
    "# Plot y vs predicted y for test and train parts\n",
    "plt.figure(figsize=(10,10))\n",
    "plt.plot(y_train, y_p_train, 'b.', label='Train')\n",
    "plt.plot(y_test, y_p_test, 'r.', label='Test')\n",
    "\n",
    "plt.plot([0], [0], 'w.')  # dummy to have origin\n",
    "plt.xlabel('True Vertragsvolumen')\n",
    "plt.ylabel('Predicted Vertragsvolumen')\n",
    "#plt.gca().set_aspect('equal')\n",
    "plt.legend()\n",
    "plt.plot()"
   ]
  },
  {
   "cell_type": "code",
   "execution_count": 91,
   "metadata": {},
   "outputs": [
    {
     "name": "stdout",
     "output_type": "stream",
     "text": [
      "0.0\n"
     ]
    }
   ],
   "source": [
    "x1 = c5['Zahlungen']\n",
    "y1 = c5['Vertragsvolumen']\n",
    "slope, intercept, r_value, p_value, std_err = stats.linregress(x1, y1)\n",
    "print (p_value)"
   ]
  },
  {
   "cell_type": "code",
   "execution_count": 92,
   "metadata": {},
   "outputs": [
    {
     "name": "stdout",
     "output_type": "stream",
     "text": [
      "6.285186319604404e-24\n"
     ]
    }
   ],
   "source": [
    "x2 = c5['Anzahl']\n",
    "y2 = c5['Vertragsvolumen']\n",
    "slope, intercept, r_value, p_value, std_err = stats.linregress(x2, y2)\n",
    "print (p_value)"
   ]
  },
  {
   "cell_type": "code",
   "execution_count": 94,
   "metadata": {},
   "outputs": [
    {
     "name": "stdout",
     "output_type": "stream",
     "text": [
      "6.320597353066842e-22\n"
     ]
    }
   ],
   "source": [
    "x3 = c5['kategorie']\n",
    "y3 = c5['Vertragsvolumen']\n",
    "slope, intercept, r_value, p_value, std_err = stats.linregress(x3, y3)\n",
    "print (p_value)"
   ]
  },
  {
   "cell_type": "markdown",
   "metadata": {},
   "source": [
    "## Language Detection - work in progress"
   ]
  },
  {
   "cell_type": "code",
   "execution_count": 120,
   "metadata": {},
   "outputs": [],
   "source": [
    "clanguage = pd.read_excel('Procurement/Verträge_DE_FR.xlsx', sheet_name='Bericht', header=3) \n",
    "#skiprows=[2]\n",
    "#na_values=['unknown'])\n",
    "#index_col=[0]\n",
    "#clanguage = str(clanguage['Positionstext Vertrag'])"
   ]
  },
  {
   "cell_type": "code",
   "execution_count": 121,
   "metadata": {},
   "outputs": [
    {
     "data": {
      "text/html": [
       "<div>\n",
       "<style scoped>\n",
       "    .dataframe tbody tr th:only-of-type {\n",
       "        vertical-align: middle;\n",
       "    }\n",
       "\n",
       "    .dataframe tbody tr th {\n",
       "        vertical-align: top;\n",
       "    }\n",
       "\n",
       "    .dataframe thead th {\n",
       "        text-align: right;\n",
       "    }\n",
       "</style>\n",
       "<table border=\"1\" class=\"dataframe\">\n",
       "  <thead>\n",
       "    <tr style=\"text-align: right;\">\n",
       "      <th></th>\n",
       "      <th>Buchungskreis</th>\n",
       "      <th>Positionstext Vertrag</th>\n",
       "      <th>Anzahl Verträge\\n01.01.1000 - 31.12.9999</th>\n",
       "    </tr>\n",
       "  </thead>\n",
       "  <tbody>\n",
       "    <tr>\n",
       "      <th>0</th>\n",
       "      <td>1050</td>\n",
       "      <td>100 roll-up pour protection entre deux b</td>\n",
       "      <td>1</td>\n",
       "    </tr>\n",
       "    <tr>\n",
       "      <th>1</th>\n",
       "      <td>1050</td>\n",
       "      <td>3 Licences supplémentaires Kofax Develop</td>\n",
       "      <td>1</td>\n",
       "    </tr>\n",
       "    <tr>\n",
       "      <th>2</th>\n",
       "      <td>1050</td>\n",
       "      <td>4 journées d'assessments + options</td>\n",
       "      <td>1</td>\n",
       "    </tr>\n",
       "    <tr>\n",
       "      <th>3</th>\n",
       "      <td>1050</td>\n",
       "      <td>5 souscriptions pour Elastic ELK Gold</td>\n",
       "      <td>1</td>\n",
       "    </tr>\n",
       "    <tr>\n",
       "      <th>4</th>\n",
       "      <td>1050</td>\n",
       "      <td>Abonnement Enquête en ligne LimeSurvey</td>\n",
       "      <td>1</td>\n",
       "    </tr>\n",
       "    <tr>\n",
       "      <th>...</th>\n",
       "      <td>...</td>\n",
       "      <td>...</td>\n",
       "      <td>...</td>\n",
       "    </tr>\n",
       "    <tr>\n",
       "      <th>325</th>\n",
       "      <td>1051</td>\n",
       "      <td>Wartung mit Genauigkeitsabnahme Wenzel L</td>\n",
       "      <td>1</td>\n",
       "    </tr>\n",
       "    <tr>\n",
       "      <th>326</th>\n",
       "      <td>1051</td>\n",
       "      <td>Werkzeuge</td>\n",
       "      <td>1</td>\n",
       "    </tr>\n",
       "    <tr>\n",
       "      <th>327</th>\n",
       "      <td>1051</td>\n",
       "      <td>Werkzeugreinigung und -Kontrolle</td>\n",
       "      <td>1</td>\n",
       "    </tr>\n",
       "    <tr>\n",
       "      <th>328</th>\n",
       "      <td>1051</td>\n",
       "      <td>div. Ersatzteile für Studer S33</td>\n",
       "      <td>1</td>\n",
       "    </tr>\n",
       "    <tr>\n",
       "      <th>329</th>\n",
       "      <td>1051</td>\n",
       "      <td>div. Material</td>\n",
       "      <td>3</td>\n",
       "    </tr>\n",
       "  </tbody>\n",
       "</table>\n",
       "<p>330 rows × 3 columns</p>\n",
       "</div>"
      ],
      "text/plain": [
       "     Buchungskreis                     Positionstext Vertrag  \\\n",
       "0             1050  100 roll-up pour protection entre deux b   \n",
       "1             1050  3 Licences supplémentaires Kofax Develop   \n",
       "2             1050        4 journées d'assessments + options   \n",
       "3             1050     5 souscriptions pour Elastic ELK Gold   \n",
       "4             1050    Abonnement Enquête en ligne LimeSurvey   \n",
       "..             ...                                       ...   \n",
       "325           1051  Wartung mit Genauigkeitsabnahme Wenzel L   \n",
       "326           1051                                 Werkzeuge   \n",
       "327           1051          Werkzeugreinigung und -Kontrolle   \n",
       "328           1051           div. Ersatzteile für Studer S33   \n",
       "329           1051                             div. Material   \n",
       "\n",
       "     Anzahl Verträge\\n01.01.1000 - 31.12.9999  \n",
       "0                                           1  \n",
       "1                                           1  \n",
       "2                                           1  \n",
       "3                                           1  \n",
       "4                                           1  \n",
       "..                                        ...  \n",
       "325                                         1  \n",
       "326                                         1  \n",
       "327                                         1  \n",
       "328                                         1  \n",
       "329                                         3  \n",
       "\n",
       "[330 rows x 3 columns]"
      ]
     },
     "execution_count": 121,
     "metadata": {},
     "output_type": "execute_result"
    }
   ],
   "source": [
    "#Filter by text language\n",
    "lang = ['1051', '1050']\n",
    "clanguage = clanguage[clanguage['Buchungskreis'].isin(lang)]\n",
    "clanguage"
   ]
  },
  {
   "cell_type": "code",
   "execution_count": 122,
   "metadata": {},
   "outputs": [],
   "source": [
    "#Create a random train, valid, test split\n",
    "data_shuffle = clanguage.sample(frac=1)\n",
    "\n",
    "train = data_shuffle[0:220]\n",
    "valid = data_shuffle[220:290]\n",
    "test = data_shuffle[290:321]"
   ]
  },
  {
   "cell_type": "code",
   "execution_count": null,
   "metadata": {},
   "outputs": [],
   "source": [
    "# create and exploring the trigrams\n",
    "\n",
    "# modelling\n",
    "from sklearn.preprocessing import LabelEncoder\n",
    "from keras.utils import np_utils\n",
    "from keras.models import Sequential\n",
    "from keras.layers import Dense\n",
    "\n",
    "# model evaluation: prediction, accurancy, confusion matrix"
   ]
  },
  {
   "cell_type": "code",
   "execution_count": null,
   "metadata": {},
   "outputs": [],
   "source": []
  },
  {
   "cell_type": "code",
   "execution_count": null,
   "metadata": {},
   "outputs": [],
   "source": []
  }
 ],
 "metadata": {
  "kernelspec": {
   "display_name": "Python 3",
   "language": "python",
   "name": "python3"
  },
  "language_info": {
   "codemirror_mode": {
    "name": "ipython",
    "version": 3
   },
   "file_extension": ".py",
   "mimetype": "text/x-python",
   "name": "python",
   "nbconvert_exporter": "python",
   "pygments_lexer": "ipython3",
   "version": "3.8.5"
  }
 },
 "nbformat": 4,
 "nbformat_minor": 4
}
